{
  "nbformat": 4,
  "nbformat_minor": 0,
  "metadata": {
    "colab": {
      "name": "sai purna praneeth cheekati",
      "provenance": [],
      "collapsed_sections": []
    },
    "kernelspec": {
      "name": "python3",
      "display_name": "Python 3"
    }
  },
  "cells": [
    {
      "cell_type": "markdown",
      "metadata": {
        "id": "MjkCEtzImIYm"
      },
      "source": [
        "question 2"
      ]
    },
    {
      "cell_type": "code",
      "metadata": {
        "id": "5oOKGhQblSby"
      },
      "source": [
        "import numpy as np\n",
        "import scipy\n",
        "import random\n",
        "import scipy.stats as norm\n",
        "import pandas as pd"
      ],
      "execution_count": null,
      "outputs": []
    },
    {
      "cell_type": "code",
      "metadata": {
        "id": "DRFscI-mdkh3"
      },
      "source": [
        "from numpy import nan"
      ],
      "execution_count": null,
      "outputs": []
    },
    {
      "cell_type": "code",
      "metadata": {
        "id": "XxjfLCrAFDPO"
      },
      "source": [
        "mu=[ 2 , -2]\n",
        "sigma = [[0.9 , 0.2],[0.2 , 0.3]]\n"
      ],
      "execution_count": null,
      "outputs": []
    },
    {
      "cell_type": "code",
      "metadata": {
        "id": "lyy7ON2GDm-B"
      },
      "source": [
        "s1 = np.random.normal(2, 0.9 ,50)"
      ],
      "execution_count": null,
      "outputs": []
    },
    {
      "cell_type": "code",
      "metadata": {
        "id": "oJLsZ5-1JFyz"
      },
      "source": [
        "s2=np.random.normal(-2,0.3,50)"
      ],
      "execution_count": null,
      "outputs": []
    },
    {
      "cell_type": "code",
      "metadata": {
        "id": "-opqsgz5DnJD"
      },
      "source": [
        "s=np.array([s1,s2])"
      ],
      "execution_count": null,
      "outputs": []
    },
    {
      "cell_type": "code",
      "metadata": {
        "id": "eISejT1kDnSg"
      },
      "source": [
        "s=s.T"
      ],
      "execution_count": null,
      "outputs": []
    },
    {
      "cell_type": "code",
      "metadata": {
        "id": "I5MIjGCTF4PS",
        "outputId": "8ae6a40c-b14e-4f9f-97ff-089bb6d5d063",
        "colab": {
          "base_uri": "https://localhost:8080/"
        }
      },
      "source": [
        "s.shape"
      ],
      "execution_count": null,
      "outputs": [
        {
          "output_type": "execute_result",
          "data": {
            "text/plain": [
              "(50, 2)"
            ]
          },
          "metadata": {
            "tags": []
          },
          "execution_count": 59
        }
      ]
    },
    {
      "cell_type": "code",
      "metadata": {
        "id": "wTnHK2eZJkFw",
        "outputId": "6089839d-e504-4ec9-9dd8-19fefc1e47d3",
        "colab": {
          "base_uri": "https://localhost:8080/"
        }
      },
      "source": [
        "s.mean(axis=0)"
      ],
      "execution_count": null,
      "outputs": [
        {
          "output_type": "execute_result",
          "data": {
            "text/plain": [
              "array([ 1.95956892, -2.06150967])"
            ]
          },
          "metadata": {
            "tags": []
          },
          "execution_count": 60
        }
      ]
    },
    {
      "cell_type": "code",
      "metadata": {
        "id": "LCFN2sFSJmkm",
        "outputId": "5d44222a-75e3-482e-c165-3b8eedd95d1c",
        "colab": {
          "base_uri": "https://localhost:8080/"
        }
      },
      "source": [
        "np.cov(s.T)"
      ],
      "execution_count": null,
      "outputs": [
        {
          "output_type": "execute_result",
          "data": {
            "text/plain": [
              "array([[ 0.79461354, -0.01387712],\n",
              "       [-0.01387712,  0.06436042]])"
            ]
          },
          "metadata": {
            "tags": []
          },
          "execution_count": 61
        }
      ]
    },
    {
      "cell_type": "code",
      "metadata": {
        "id": "sYgHV3bdJ7l1"
      },
      "source": [
        ""
      ],
      "execution_count": null,
      "outputs": []
    },
    {
      "cell_type": "code",
      "metadata": {
        "id": "y2oqceTVRPbw"
      },
      "source": [
        "s1 = np.random.normal(2, 0.9 ,5000)"
      ],
      "execution_count": null,
      "outputs": []
    },
    {
      "cell_type": "code",
      "metadata": {
        "id": "ihbKtcIzRPcg"
      },
      "source": [
        "s2=np.random.normal(-2,0.3,5000)"
      ],
      "execution_count": null,
      "outputs": []
    },
    {
      "cell_type": "code",
      "metadata": {
        "id": "PKYgfdBLRPc0"
      },
      "source": [
        "s=np.array([s1,s2])"
      ],
      "execution_count": null,
      "outputs": []
    },
    {
      "cell_type": "code",
      "metadata": {
        "id": "DNmC429iRPdC"
      },
      "source": [
        "s=s.T"
      ],
      "execution_count": null,
      "outputs": []
    },
    {
      "cell_type": "code",
      "metadata": {
        "id": "I0qHfgHIRPdQ",
        "outputId": "75d0370a-54a0-4197-d59d-a6f7056e430b",
        "colab": {
          "base_uri": "https://localhost:8080/"
        }
      },
      "source": [
        "s.shape"
      ],
      "execution_count": null,
      "outputs": [
        {
          "output_type": "execute_result",
          "data": {
            "text/plain": [
              "(5000, 2)"
            ]
          },
          "metadata": {
            "tags": []
          },
          "execution_count": 66
        }
      ]
    },
    {
      "cell_type": "code",
      "metadata": {
        "id": "Wn37QmY-RPdd",
        "outputId": "561c5ae4-14e9-4998-80ec-ecb26bd5771b",
        "colab": {
          "base_uri": "https://localhost:8080/"
        }
      },
      "source": [
        "s.mean(axis=0)"
      ],
      "execution_count": null,
      "outputs": [
        {
          "output_type": "execute_result",
          "data": {
            "text/plain": [
              "array([ 2.00635609, -2.00718201])"
            ]
          },
          "metadata": {
            "tags": []
          },
          "execution_count": 67
        }
      ]
    },
    {
      "cell_type": "code",
      "metadata": {
        "id": "2K3b7W6WRPdq",
        "outputId": "00392539-1e75-4588-953d-9e930e0871a9",
        "colab": {
          "base_uri": "https://localhost:8080/"
        }
      },
      "source": [
        "np.cov(s.T)"
      ],
      "execution_count": null,
      "outputs": [
        {
          "output_type": "execute_result",
          "data": {
            "text/plain": [
              "array([[ 0.82188771, -0.00317376],\n",
              "       [-0.00317376,  0.0889956 ]])"
            ]
          },
          "metadata": {
            "tags": []
          },
          "execution_count": 68
        }
      ]
    },
    {
      "cell_type": "markdown",
      "metadata": {
        "id": "ekdQ_74PmPZG"
      },
      "source": [
        ""
      ]
    },
    {
      "cell_type": "code",
      "metadata": {
        "id": "57wrNZx_RU9B"
      },
      "source": [
        ""
      ],
      "execution_count": null,
      "outputs": []
    },
    {
      "cell_type": "markdown",
      "metadata": {
        "id": "6JL7vxWrgjuj"
      },
      "source": [
        "python question 1\n"
      ]
    },
    {
      "cell_type": "code",
      "metadata": {
        "id": "0JfanG59Uuqq"
      },
      "source": [
        "df1=pd.read_csv(\"data.csv\")"
      ],
      "execution_count": null,
      "outputs": []
    },
    {
      "cell_type": "code",
      "metadata": {
        "id": "9Yo8_9MyVY36",
        "outputId": "baeec514-38d4-452e-ff5c-6b1f636638a9",
        "colab": {
          "base_uri": "https://localhost:8080/",
          "height": 206
        }
      },
      "source": [
        "df1.head()"
      ],
      "execution_count": null,
      "outputs": [
        {
          "output_type": "execute_result",
          "data": {
            "text/html": [
              "<div>\n",
              "<style scoped>\n",
              "    .dataframe tbody tr th:only-of-type {\n",
              "        vertical-align: middle;\n",
              "    }\n",
              "\n",
              "    .dataframe tbody tr th {\n",
              "        vertical-align: top;\n",
              "    }\n",
              "\n",
              "    .dataframe thead th {\n",
              "        text-align: right;\n",
              "    }\n",
              "</style>\n",
              "<table border=\"1\" class=\"dataframe\">\n",
              "  <thead>\n",
              "    <tr style=\"text-align: right;\">\n",
              "      <th></th>\n",
              "      <th>_type</th>\n",
              "      <th>_id</th>\n",
              "      <th>_score</th>\n",
              "      <th>_source</th>\n",
              "    </tr>\n",
              "  </thead>\n",
              "  <tbody>\n",
              "    <tr>\n",
              "      <th>0</th>\n",
              "      <td>movies</td>\n",
              "      <td>97</td>\n",
              "      <td>20.848059</td>\n",
              "      <td>{'cast': ['Jeff Bridges', 'Bruce Boxleitner', ...</td>\n",
              "    </tr>\n",
              "    <tr>\n",
              "      <th>1</th>\n",
              "      <td>movies</td>\n",
              "      <td>507</td>\n",
              "      <td>10.478757</td>\n",
              "      <td>{'cast': ['Eric Stoltz', 'Julie Delpy', 'Jean-...</td>\n",
              "    </tr>\n",
              "    <tr>\n",
              "      <th>2</th>\n",
              "      <td>movies</td>\n",
              "      <td>811</td>\n",
              "      <td>9.831051</td>\n",
              "      <td>{'cast': ['Bruce Dern', 'Cliff Potts', 'Ron Ri...</td>\n",
              "    </tr>\n",
              "    <tr>\n",
              "      <th>3</th>\n",
              "      <td>tvshows</td>\n",
              "      <td>25222</td>\n",
              "      <td>9.288745</td>\n",
              "      <td>{'cast': ['Ron Rifkin', 'Eddie Barth', 'Charle...</td>\n",
              "    </tr>\n",
              "    <tr>\n",
              "      <th>4</th>\n",
              "      <td>movies</td>\n",
              "      <td>757</td>\n",
              "      <td>9.140831</td>\n",
              "      <td>{'cast': ['Margaret Rutherford', 'Ron Moody', ...</td>\n",
              "    </tr>\n",
              "  </tbody>\n",
              "</table>\n",
              "</div>"
            ],
            "text/plain": [
              "     _type    _id     _score                                            _source\n",
              "0   movies     97  20.848059  {'cast': ['Jeff Bridges', 'Bruce Boxleitner', ...\n",
              "1   movies    507  10.478757  {'cast': ['Eric Stoltz', 'Julie Delpy', 'Jean-...\n",
              "2   movies    811   9.831051  {'cast': ['Bruce Dern', 'Cliff Potts', 'Ron Ri...\n",
              "3  tvshows  25222   9.288745  {'cast': ['Ron Rifkin', 'Eddie Barth', 'Charle...\n",
              "4   movies    757   9.140831  {'cast': ['Margaret Rutherford', 'Ron Moody', ..."
            ]
          },
          "metadata": {
            "tags": []
          },
          "execution_count": 167
        }
      ]
    },
    {
      "cell_type": "code",
      "metadata": {
        "id": "kKogVTJ_VZyl"
      },
      "source": [
        "df2=pd.read_csv(\"output.csv\")"
      ],
      "execution_count": null,
      "outputs": []
    },
    {
      "cell_type": "code",
      "metadata": {
        "id": "L47ZOYcIVjIY",
        "outputId": "1e0ed7af-cb90-412a-b8a5-b785eee09e0d",
        "colab": {
          "base_uri": "https://localhost:8080/",
          "height": 206
        }
      },
      "source": [
        "df2.head()"
      ],
      "execution_count": null,
      "outputs": [
        {
          "output_type": "execute_result",
          "data": {
            "text/html": [
              "<div>\n",
              "<style scoped>\n",
              "    .dataframe tbody tr th:only-of-type {\n",
              "        vertical-align: middle;\n",
              "    }\n",
              "\n",
              "    .dataframe tbody tr th {\n",
              "        vertical-align: top;\n",
              "    }\n",
              "\n",
              "    .dataframe thead th {\n",
              "        text-align: right;\n",
              "    }\n",
              "</style>\n",
              "<table border=\"1\" class=\"dataframe\">\n",
              "  <thead>\n",
              "    <tr style=\"text-align: right;\">\n",
              "      <th></th>\n",
              "      <th>_source</th>\n",
              "    </tr>\n",
              "  </thead>\n",
              "  <tbody>\n",
              "    <tr>\n",
              "      <th>0</th>\n",
              "      <td>{'cast': ['Jeff Bridges', 'Bruce Boxleitner', ...</td>\n",
              "    </tr>\n",
              "    <tr>\n",
              "      <th>1</th>\n",
              "      <td>{'cast': ['Eric Stoltz', 'Julie Delpy', 'Jean-...</td>\n",
              "    </tr>\n",
              "    <tr>\n",
              "      <th>2</th>\n",
              "      <td>{'cast': ['Bruce Dern', 'Cliff Potts', 'Ron Ri...</td>\n",
              "    </tr>\n",
              "    <tr>\n",
              "      <th>3</th>\n",
              "      <td>{'cast': ['Ron Rifkin', 'Eddie Barth', 'Charle...</td>\n",
              "    </tr>\n",
              "    <tr>\n",
              "      <th>4</th>\n",
              "      <td>{'cast': ['Margaret Rutherford', 'Ron Moody', ...</td>\n",
              "    </tr>\n",
              "  </tbody>\n",
              "</table>\n",
              "</div>"
            ],
            "text/plain": [
              "                                             _source\n",
              "0  {'cast': ['Jeff Bridges', 'Bruce Boxleitner', ...\n",
              "1  {'cast': ['Eric Stoltz', 'Julie Delpy', 'Jean-...\n",
              "2  {'cast': ['Bruce Dern', 'Cliff Potts', 'Ron Ri...\n",
              "3  {'cast': ['Ron Rifkin', 'Eddie Barth', 'Charle...\n",
              "4  {'cast': ['Margaret Rutherford', 'Ron Moody', ..."
            ]
          },
          "metadata": {
            "tags": []
          },
          "execution_count": 169
        }
      ]
    },
    {
      "cell_type": "code",
      "metadata": {
        "id": "4xd-64hbYC7H",
        "outputId": "981ce7ed-98f8-461a-fcec-f90303d8c0c4",
        "colab": {
          "base_uri": "https://localhost:8080/"
        }
      },
      "source": [
        "type(df2._source.loc[0])"
      ],
      "execution_count": null,
      "outputs": [
        {
          "output_type": "execute_result",
          "data": {
            "text/plain": [
              "str"
            ]
          },
          "metadata": {
            "tags": []
          },
          "execution_count": 170
        }
      ]
    },
    {
      "cell_type": "code",
      "metadata": {
        "id": "V3P0ZhKiWM3-"
      },
      "source": [
        "temp1=df1._source[0]"
      ],
      "execution_count": null,
      "outputs": []
    },
    {
      "cell_type": "code",
      "metadata": {
        "id": "GQVV3K8uVmb4"
      },
      "source": [
        "temp2=df2.loc[0][0]"
      ],
      "execution_count": null,
      "outputs": []
    },
    {
      "cell_type": "code",
      "metadata": {
        "id": "nYCeP0g0XK__",
        "outputId": "c6869c9b-d8db-490f-e6e0-6e6aa7d1d94c",
        "colab": {
          "base_uri": "https://localhost:8080/",
          "height": 105
        }
      },
      "source": [
        "temp1"
      ],
      "execution_count": null,
      "outputs": [
        {
          "output_type": "execute_result",
          "data": {
            "application/vnd.google.colaboratory.intrinsic+json": {
              "type": "string"
            },
            "text/plain": [
              "\"{'cast': ['Jeff Bridges', 'Bruce Boxleitner', 'David Warner', 'Cindy Morgan', 'Barnard Hughes', 'Dan Shor', 'Peter Jurasik', 'Tony Stephano', 'Craig Chudy', 'Vince Deadrick Jr.', 'Sam Schatz', 'Michael Dudikoff'], 'streaming_modes': ['Subscription'], 'thumbnail_id': {'mob': '97-mob-w342-zwSFEczP7AzqugAHHIX3zHniT0t', 'tv': '97-tv-w780-zwSFEczP7AzqugAHHIX3zHniT0t', 'web': '97-web-w500-zwSFEczP7AzqugAHHIX3zHniT0t'}, 'media_type': 'movies', 'year': '1982', 'genres': ['Science Fiction', 'Action', 'Adventure'], 'ratings': {'internet_movie_database': '6.8/10'}, 'language': 'English', 'id': '97', 'services': ['Jio Cinema'], 'title_name': 'Tron', 'sooper_original': False}\""
            ]
          },
          "metadata": {
            "tags": []
          },
          "execution_count": 174
        }
      ]
    },
    {
      "cell_type": "code",
      "metadata": {
        "id": "hRlj8NevWhq9",
        "outputId": "3c413acb-1de6-4fca-cb59-5dc554ff2bc3",
        "colab": {
          "base_uri": "https://localhost:8080/",
          "height": 122
        }
      },
      "source": [
        "temp2"
      ],
      "execution_count": null,
      "outputs": [
        {
          "output_type": "execute_result",
          "data": {
            "application/vnd.google.colaboratory.intrinsic+json": {
              "type": "string"
            },
            "text/plain": [
              "\"{'cast': ['Jeff Bridges', 'Bruce Boxleitner', 'David Warner', 'Cindy Morgan', 'Barnard Hughes', 'Dan Shor', 'Peter Jurasik', 'Tony Stephano', 'Craig Chudy', 'Vince Deadrick Jr.', 'Sam Schatz', 'Michael Dudikoff'], 'streaming_modes': ['Subscription'], 'thumbnail_id': {'mob': '97-mob-w342-zwSFEczP7AzqugAHHIX3zHniT0t', 'tv': '97-tv-w780-zwSFEczP7AzqugAHHIX3zHniT0t', 'web': '97-web-w500-zwSFEczP7AzqugAHHIX3zHniT0t'}, 'media_type': 'movies', 'year': '1982', 'genres': ['Science Fiction', 'Action', 'Adventure'], 'ratings': {'internet_movie_database': '6.8/10'}, 'language': 'English', 'id': '97', 'services': ['Jio Cinema'], 'title_name': 'Tron', 'sooper_original': False, 'rating': nan, 'hide': nan, 'watchlist': nan, 'watched': nan}\""
            ]
          },
          "metadata": {
            "tags": []
          },
          "execution_count": 175
        }
      ]
    },
    {
      "cell_type": "code",
      "metadata": {
        "id": "oAXTjDsPXymH"
      },
      "source": [
        "df1[\"_source\"]=df1['_source'].apply(eval)"
      ],
      "execution_count": null,
      "outputs": []
    },
    {
      "cell_type": "code",
      "metadata": {
        "id": "jtRplVvQckBj",
        "outputId": "de79046b-9afe-4928-e236-f21e523de9c0",
        "colab": {
          "base_uri": "https://localhost:8080/",
          "height": 206
        }
      },
      "source": [
        "df1.head()"
      ],
      "execution_count": null,
      "outputs": [
        {
          "output_type": "execute_result",
          "data": {
            "text/html": [
              "<div>\n",
              "<style scoped>\n",
              "    .dataframe tbody tr th:only-of-type {\n",
              "        vertical-align: middle;\n",
              "    }\n",
              "\n",
              "    .dataframe tbody tr th {\n",
              "        vertical-align: top;\n",
              "    }\n",
              "\n",
              "    .dataframe thead th {\n",
              "        text-align: right;\n",
              "    }\n",
              "</style>\n",
              "<table border=\"1\" class=\"dataframe\">\n",
              "  <thead>\n",
              "    <tr style=\"text-align: right;\">\n",
              "      <th></th>\n",
              "      <th>_type</th>\n",
              "      <th>_id</th>\n",
              "      <th>_score</th>\n",
              "      <th>_source</th>\n",
              "    </tr>\n",
              "  </thead>\n",
              "  <tbody>\n",
              "    <tr>\n",
              "      <th>0</th>\n",
              "      <td>movies</td>\n",
              "      <td>97</td>\n",
              "      <td>20.848059</td>\n",
              "      <td>{'cast': ['Jeff Bridges', 'Bruce Boxleitner', ...</td>\n",
              "    </tr>\n",
              "    <tr>\n",
              "      <th>1</th>\n",
              "      <td>movies</td>\n",
              "      <td>507</td>\n",
              "      <td>10.478757</td>\n",
              "      <td>{'cast': ['Eric Stoltz', 'Julie Delpy', 'Jean-...</td>\n",
              "    </tr>\n",
              "    <tr>\n",
              "      <th>2</th>\n",
              "      <td>movies</td>\n",
              "      <td>811</td>\n",
              "      <td>9.831051</td>\n",
              "      <td>{'cast': ['Bruce Dern', 'Cliff Potts', 'Ron Ri...</td>\n",
              "    </tr>\n",
              "    <tr>\n",
              "      <th>3</th>\n",
              "      <td>tvshows</td>\n",
              "      <td>25222</td>\n",
              "      <td>9.288745</td>\n",
              "      <td>{'cast': ['Ron Rifkin', 'Eddie Barth', 'Charle...</td>\n",
              "    </tr>\n",
              "    <tr>\n",
              "      <th>4</th>\n",
              "      <td>movies</td>\n",
              "      <td>757</td>\n",
              "      <td>9.140831</td>\n",
              "      <td>{'cast': ['Margaret Rutherford', 'Ron Moody', ...</td>\n",
              "    </tr>\n",
              "  </tbody>\n",
              "</table>\n",
              "</div>"
            ],
            "text/plain": [
              "     _type    _id     _score                                            _source\n",
              "0   movies     97  20.848059  {'cast': ['Jeff Bridges', 'Bruce Boxleitner', ...\n",
              "1   movies    507  10.478757  {'cast': ['Eric Stoltz', 'Julie Delpy', 'Jean-...\n",
              "2   movies    811   9.831051  {'cast': ['Bruce Dern', 'Cliff Potts', 'Ron Ri...\n",
              "3  tvshows  25222   9.288745  {'cast': ['Ron Rifkin', 'Eddie Barth', 'Charle...\n",
              "4   movies    757   9.140831  {'cast': ['Margaret Rutherford', 'Ron Moody', ..."
            ]
          },
          "metadata": {
            "tags": []
          },
          "execution_count": 181
        }
      ]
    },
    {
      "cell_type": "code",
      "metadata": {
        "id": "837OgWcKd4u7"
      },
      "source": [
        "for x in range(47):\n",
        "  df2[\"_source\"][x]=eval(df2['_source'][x])"
      ],
      "execution_count": null,
      "outputs": []
    },
    {
      "cell_type": "code",
      "metadata": {
        "id": "v4CuDbQobH5S",
        "outputId": "8b94a2ee-beff-4641-c64a-1087365a495d",
        "colab": {
          "base_uri": "https://localhost:8080/"
        }
      },
      "source": [
        "type(df1._source[0])"
      ],
      "execution_count": null,
      "outputs": [
        {
          "output_type": "execute_result",
          "data": {
            "text/plain": [
              "dict"
            ]
          },
          "metadata": {
            "tags": []
          },
          "execution_count": 158
        }
      ]
    },
    {
      "cell_type": "code",
      "metadata": {
        "id": "VmUSGJV-fO-L"
      },
      "source": [
        "for x in range(47):\n",
        "  df1[\"_source\"][x][\"rating\"]=nan\n",
        "  df1[\"_source\"][x][\"hide\"]=nan\n",
        "  df1[\"_source\"][x][\"watchlist\"]=nan\n",
        "  df1[\"_source\"][x][\"watched\"]=nan\n"
      ],
      "execution_count": null,
      "outputs": []
    },
    {
      "cell_type": "code",
      "metadata": {
        "id": "zQhsCMT3gCf7",
        "outputId": "0f6b4b59-8c57-4fce-bf98-ece4d2346fa0",
        "colab": {
          "base_uri": "https://localhost:8080/"
        }
      },
      "source": [
        "df1[\"_source\"][0],df2[\"_source\"][1]"
      ],
      "execution_count": null,
      "outputs": [
        {
          "output_type": "execute_result",
          "data": {
            "text/plain": [
              "({'cast': ['Jeff Bridges',\n",
              "   'Bruce Boxleitner',\n",
              "   'David Warner',\n",
              "   'Cindy Morgan',\n",
              "   'Barnard Hughes',\n",
              "   'Dan Shor',\n",
              "   'Peter Jurasik',\n",
              "   'Tony Stephano',\n",
              "   'Craig Chudy',\n",
              "   'Vince Deadrick Jr.',\n",
              "   'Sam Schatz',\n",
              "   'Michael Dudikoff'],\n",
              "  'genres': ['Science Fiction', 'Action', 'Adventure'],\n",
              "  'hide': nan,\n",
              "  'id': '97',\n",
              "  'language': 'English',\n",
              "  'media_type': 'movies',\n",
              "  'rating': nan,\n",
              "  'ratings': {'internet_movie_database': '6.8/10'},\n",
              "  'services': ['Jio Cinema'],\n",
              "  'sooper_original': False,\n",
              "  'streaming_modes': ['Subscription'],\n",
              "  'thumbnail_id': {'mob': '97-mob-w342-zwSFEczP7AzqugAHHIX3zHniT0t',\n",
              "   'tv': '97-tv-w780-zwSFEczP7AzqugAHHIX3zHniT0t',\n",
              "   'web': '97-web-w500-zwSFEczP7AzqugAHHIX3zHniT0t'},\n",
              "  'title_name': 'Tron',\n",
              "  'watchlist': nan,\n",
              "  'year': '1982'},\n",
              " {'cast': ['Eric Stoltz',\n",
              "   'Julie Delpy',\n",
              "   'Jean-Hugues Anglade',\n",
              "   'Tai Thai',\n",
              "   'Bruce Ramsay',\n",
              "   'Kario Salem',\n",
              "   'Salvator Xuereb',\n",
              "   'Gary Kemp',\n",
              "   'Martin Raymond',\n",
              "   'Eric Pascal Chaltiel',\n",
              "   'Cecilia Peck',\n",
              "   'Ron Jeremy',\n",
              "   'Gladys Holland',\n",
              "   'Kimberly Beck',\n",
              "   'Djimon Hounsou',\n",
              "   'Annette Goodman'],\n",
              "  'genres': ['Action', 'Crime', 'Drama', 'Thriller'],\n",
              "  'hide': nan,\n",
              "  'id': '507',\n",
              "  'language': 'English',\n",
              "  'media_type': 'movies',\n",
              "  'rating': nan,\n",
              "  'ratings': {'internet_movie_database': '6.5/10'},\n",
              "  'services': None,\n",
              "  'sooper_original': False,\n",
              "  'streaming_modes': None,\n",
              "  'thumbnail_id': {'mob': '507-mob-w342-sbzhigU1L5C9xJUUEAv1P2FlGfW',\n",
              "   'tv': '507-tv-w780-sbzhigU1L5C9xJUUEAv1P2FlGfW',\n",
              "   'web': '507-web-w500-sbzhigU1L5C9xJUUEAv1P2FlGfW'},\n",
              "  'title_name': 'Killing Zoe',\n",
              "  'watched': nan,\n",
              "  'watchlist': nan,\n",
              "  'year': '1993'})"
            ]
          },
          "metadata": {
            "tags": []
          },
          "execution_count": 201
        }
      ]
    },
    {
      "cell_type": "code",
      "metadata": {
        "id": "oVoMhz5CgGfl"
      },
      "source": [
        ""
      ],
      "execution_count": null,
      "outputs": []
    },
    {
      "cell_type": "code",
      "metadata": {
        "id": "tiW1fqaZbj5j"
      },
      "source": [
        "df3=pd.read_csv(\"activity_data.csv\")"
      ],
      "execution_count": null,
      "outputs": []
    },
    {
      "cell_type": "code",
      "metadata": {
        "id": "vLb8qC50bqZc",
        "outputId": "9d59cc7f-ea57-4bc2-9c47-7f60e06e5a43",
        "colab": {
          "base_uri": "https://localhost:8080/",
          "height": 380
        }
      },
      "source": [
        "df3.head()"
      ],
      "execution_count": null,
      "outputs": [
        {
          "output_type": "execute_result",
          "data": {
            "text/html": [
              "<div>\n",
              "<style scoped>\n",
              "    .dataframe tbody tr th:only-of-type {\n",
              "        vertical-align: middle;\n",
              "    }\n",
              "\n",
              "    .dataframe tbody tr th {\n",
              "        vertical-align: top;\n",
              "    }\n",
              "\n",
              "    .dataframe thead th {\n",
              "        text-align: right;\n",
              "    }\n",
              "</style>\n",
              "<table border=\"1\" class=\"dataframe\">\n",
              "  <thead>\n",
              "    <tr style=\"text-align: right;\">\n",
              "      <th></th>\n",
              "      <th>media_type</th>\n",
              "      <th>watched</th>\n",
              "      <th>rating</th>\n",
              "      <th>watchlist</th>\n",
              "      <th>profile_id</th>\n",
              "      <th>id</th>\n",
              "      <th>hide</th>\n",
              "    </tr>\n",
              "  </thead>\n",
              "  <tbody>\n",
              "    <tr>\n",
              "      <th>0</th>\n",
              "      <td>{'S': 'movies'}</td>\n",
              "      <td>{'M': {'value': {'NULL': True}, 'timestamp': {...</td>\n",
              "      <td>{'M': {'value': {'NULL': True}, 'timestamp': {...</td>\n",
              "      <td>{'M': {'value': {'S': '0'}, 'timestamp': {'S':...</td>\n",
              "      <td>{'S': 'b1d89c45-ed9b-4a0e-8d78-28e628c2fb8c'}</td>\n",
              "      <td>{'S': '744_movies'}</td>\n",
              "      <td>{'M': {'value': {'NULL': True}, 'timestamp': {...</td>\n",
              "    </tr>\n",
              "    <tr>\n",
              "      <th>1</th>\n",
              "      <td>{'S': 'movies'}</td>\n",
              "      <td>{'M': {'value': {'NULL': True}, 'timestamp': {...</td>\n",
              "      <td>{'M': {'value': {'S': '3'}, 'timestamp': {'S':...</td>\n",
              "      <td>{'M': {'value': {'NULL': True}, 'timestamp': {...</td>\n",
              "      <td>{'S': 'b1d89c45-ed9b-4a0e-8d78-28e628c2fb8c'}</td>\n",
              "      <td>{'S': '820_movies'}</td>\n",
              "      <td>{'M': {'value': {'NULL': True}, 'timestamp': {...</td>\n",
              "    </tr>\n",
              "    <tr>\n",
              "      <th>2</th>\n",
              "      <td>{'S': 'movies'}</td>\n",
              "      <td>{'M': {'value': {'NULL': True}, 'timestamp': {...</td>\n",
              "      <td>{'M': {'value': {'NULL': True}, 'timestamp': {...</td>\n",
              "      <td>{'M': {'value': {'S': '0'}, 'timestamp': {'S':...</td>\n",
              "      <td>{'S': 'b1d89c45-ed9b-4a0e-8d78-28e628c2fb8c'}</td>\n",
              "      <td>{'S': '402_movies'}</td>\n",
              "      <td>{'M': {'value': {'NULL': True}, 'timestamp': {...</td>\n",
              "    </tr>\n",
              "    <tr>\n",
              "      <th>3</th>\n",
              "      <td>{'S': 'movies'}</td>\n",
              "      <td>{'M': {'value': {'NULL': True}, 'timestamp': {...</td>\n",
              "      <td>{'M': {'value': {'S': '3'}, 'timestamp': {'S':...</td>\n",
              "      <td>{'M': {'value': {'S': '0'}, 'timestamp': {'S':...</td>\n",
              "      <td>{'S': 'b1d89c45-ed9b-4a0e-8d78-28e628c2fb8c'}</td>\n",
              "      <td>{'S': '87_movies'}</td>\n",
              "      <td>{'M': {'value': {'NULL': True}, 'timestamp': {...</td>\n",
              "    </tr>\n",
              "    <tr>\n",
              "      <th>4</th>\n",
              "      <td>{'S': 'movies'}</td>\n",
              "      <td>{'M': {'value': {'NULL': True}, 'timestamp': {...</td>\n",
              "      <td>{'M': {'value': {'NULL': True}, 'timestamp': {...</td>\n",
              "      <td>{'M': {'value': {'S': '0'}, 'timestamp': {'S':...</td>\n",
              "      <td>{'S': 'b1d89c45-ed9b-4a0e-8d78-28e628c2fb8c'}</td>\n",
              "      <td>{'S': '810_movies'}</td>\n",
              "      <td>{'M': {'value': {'NULL': True}, 'timestamp': {...</td>\n",
              "    </tr>\n",
              "  </tbody>\n",
              "</table>\n",
              "</div>"
            ],
            "text/plain": [
              "        media_type  ...                                               hide\n",
              "0  {'S': 'movies'}  ...  {'M': {'value': {'NULL': True}, 'timestamp': {...\n",
              "1  {'S': 'movies'}  ...  {'M': {'value': {'NULL': True}, 'timestamp': {...\n",
              "2  {'S': 'movies'}  ...  {'M': {'value': {'NULL': True}, 'timestamp': {...\n",
              "3  {'S': 'movies'}  ...  {'M': {'value': {'NULL': True}, 'timestamp': {...\n",
              "4  {'S': 'movies'}  ...  {'M': {'value': {'NULL': True}, 'timestamp': {...\n",
              "\n",
              "[5 rows x 7 columns]"
            ]
          },
          "metadata": {
            "tags": []
          },
          "execution_count": 161
        }
      ]
    },
    {
      "cell_type": "code",
      "metadata": {
        "id": "zI14SX-5bv6X"
      },
      "source": [
        "for x in range(5):\n",
        "  id=int(eval(df3[\"id\"][x])[\"S\"].split(\"_\")[0])\n",
        "  index=df1[df1[\"_id\"]==id].index[0]\n",
        "  if \"NULL\" in eval(df3[\"rating\"][x])[\"M\"][\"value\"]:\n",
        "    df1[\"_source\"][index][\"rating\"]=nan\n",
        "  else:\n",
        "    df1[\"_source\"][index][\"rating\"]=int(eval(df3[\"rating\"][x])[\"M\"][\"value\"][\"S\"])\n",
        "\n",
        "  if \"NULL\" in eval(df3[\"hide\"][x])[\"M\"][\"value\"]:\n",
        "    df1[\"_source\"][index][\"hide\"]=nan\n",
        "  else:\n",
        "    df1[\"_source\"][index][\"hide\"]=int(eval(df3[\"hide\"][x])[\"M\"][\"value\"][\"S\"])\n",
        "\n",
        "\n",
        "  if \"NULL\" in eval(df3[\"watched\"][x])[\"M\"][\"value\"]:\n",
        "    df1[\"_source\"][index][\"watched\"]=nan\n",
        "  else:\n",
        "    df1[\"_source\"][index][\"watched\"]=int(eval(df3[\"watched\"][x])[\"M\"][\"value\"][\"S\"])\n",
        "\n",
        "\n",
        "  if \"NULL\" in eval(df3[\"watchlist\"][x])[\"M\"][\"value\"]:\n",
        "    df1[\"_source\"][index][\"watchlist\"]=nan\n",
        "  else:\n",
        "    df1[\"_source\"][index][\"watchlist\"]=int(eval(df3[\"watchlist\"][x])[\"M\"][\"value\"][\"S\"])\n",
        "\n"
      ],
      "execution_count": null,
      "outputs": []
    },
    {
      "cell_type": "code",
      "metadata": {
        "id": "HvkAX-I9lRjM",
        "outputId": "36f6a15f-6bef-4cf8-c8f1-8dc910918d08",
        "colab": {
          "base_uri": "https://localhost:8080/"
        }
      },
      "source": [
        "df1[df1[\"_id\"]==810][\"_source\"][9]"
      ],
      "execution_count": null,
      "outputs": [
        {
          "output_type": "execute_result",
          "data": {
            "text/plain": [
              "{'cast': ['Mike Myers',\n",
              "  'Eddie Murphy',\n",
              "  'Cameron Diaz',\n",
              "  'Antonio Banderas',\n",
              "  'Julie Andrews',\n",
              "  'John Cleese',\n",
              "  'Rupert Everett',\n",
              "  'Eric Idle',\n",
              "  'Justin Timberlake',\n",
              "  'Susanne Blakeslee',\n",
              "  'Cody Cameron',\n",
              "  'Larry King',\n",
              "  'Christopher Knights',\n",
              "  'John Krasinski',\n",
              "  'Ian McShane',\n",
              "  'Cheri Oteri',\n",
              "  'Regis Philbin',\n",
              "  'Amy Poehler',\n",
              "  'Seth Rogen',\n",
              "  'Maya Rudolph',\n",
              "  'Amy Sedaris',\n",
              "  'Conrad Vernon',\n",
              "  'Aron Warner',\n",
              "  'Jasper Johannes Andrews',\n",
              "  'Guillaume Aretos',\n",
              "  'Kelly Asbury',\n",
              "  'Zachary James Bernard',\n",
              "  'Andrew Birch',\n",
              "  'Sean Bishop',\n",
              "  'Kelly Cooney',\n",
              "  'Walt Dohrn',\n",
              "  'Dante James Hauser',\n",
              "  'Jordan Alexander Hauser',\n",
              "  'Tom Kane',\n",
              "  'Tom McGrath',\n",
              "  'Chris Miller',\n",
              "  'Latifa Ouaou',\n",
              "  'Alina Phelan',\n",
              "  'David P. Smith',\n",
              "  'Mark Valley',\n",
              "  'Kari Wahlgren',\n",
              "  'Jamison Bright',\n",
              "  'Krešimir Mikić',\n",
              "  'Vedran Mlikota'],\n",
              " 'genres': ['Fantasy', 'Adventure', 'Animation', 'Comedy', 'Family'],\n",
              " 'hide': nan,\n",
              " 'id': '810',\n",
              " 'language': 'English',\n",
              " 'media_type': 'movies',\n",
              " 'rating': nan,\n",
              " 'ratings': {'internet_movie_database': '6.1/10'},\n",
              " 'services': ['Apple iTunes', 'Jio Cinema'],\n",
              " 'sooper_original': False,\n",
              " 'streaming_modes': ['Subscription', 'Pay & Watch'],\n",
              " 'thumbnail_id': {'mob': '810-mob-w342-jaNe16gE9zdAYyVwRqmlmRKshHm',\n",
              "  'tv': '810-tv-w780-jaNe16gE9zdAYyVwRqmlmRKshHm',\n",
              "  'web': '810-web-w500-jaNe16gE9zdAYyVwRqmlmRKshHm'},\n",
              " 'title_name': 'Shrek the Third',\n",
              " 'watched': nan,\n",
              " 'watchlist': 0,\n",
              " 'year': '2007'}"
            ]
          },
          "metadata": {
            "tags": []
          },
          "execution_count": 223
        }
      ]
    },
    {
      "cell_type": "code",
      "metadata": {
        "id": "WuAKoJLJlUhr"
      },
      "source": [
        ""
      ],
      "execution_count": null,
      "outputs": []
    }
  ]
}